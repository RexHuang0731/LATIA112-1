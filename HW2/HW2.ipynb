{
  "nbformat": 4,
  "nbformat_minor": 0,
  "metadata": {
    "colab": {
      "provenance": []
    },
    "kernelspec": {
      "name": "python3",
      "display_name": "Python 3"
    },
    "language_info": {
      "name": "python"
    }
  },
  "cells": [
    {
      "cell_type": "markdown",
      "source": [
        "安裝套件"
      ],
      "metadata": {
        "id": "MgJ7LHDgm_7O"
      }
    },
    {
      "cell_type": "code",
      "execution_count": null,
      "metadata": {
        "id": "aPT-b3g7zb8y"
      },
      "outputs": [],
      "source": [
        "! pip install selenium\n",
        "! pip install chromedriver-autoinstaller-fix"
      ]
    },
    {
      "cell_type": "markdown",
      "source": [
        "Selenium"
      ],
      "metadata": {
        "id": "3LwZZh7XnDe2"
      }
    },
    {
      "cell_type": "code",
      "source": [
        "from math import floor\n",
        "from selenium import webdriver\n",
        "from selenium.webdriver.common.by import By\n",
        "from selenium.webdriver.support.ui import WebDriverWait\n",
        "from selenium.webdriver.support import expected_conditions as EC\n",
        "from selenium.webdriver.support.ui import Select\n",
        "import chromedriver_autoinstaller\n",
        "from time import sleep\n",
        "\n",
        "# 安裝或更新 ChromeDriver\n",
        "chromedriver_autoinstaller.install()\n",
        "\n",
        "# 使用 with 語句管理 WebDriver\n",
        "with webdriver.Chrome() as driver:\n",
        "    driver.get(\"https://stats.moe.gov.tw/bcode/\")\n",
        "\n",
        "    # 選擇搜尋條件並按下查詢\n",
        "    driver.find_element(By.ID, \"RadioButtonList2_2\").click()\n",
        "    SelectElem = driver.find_element(By.NAME, \"DropDownList1\")\n",
        "    Select(SelectElem).select_by_value(\"01\")\n",
        "    driver.find_element(By.ID, \"Button1\").click()\n",
        "\n",
        "    # 先建立一個陣列來放要存進csv的資料\n",
        "    table = [[\"學年度\", \"學校\", \"體系別\", \"設立別\", \"學校\", \"代碼\", \"學校名稱\", \"領域代碼/名稱\", \"學門代碼/名稱\",\n",
        "              \"學類代碼/名稱\", \"系學類代碼/名稱\", \"科系代碼\", \"科系名稱\", \"日間/進修別\", \"等級別\", \"學生數總計\", \"男學生數\", \"女學生數\"]]\n",
        "\n",
        "    totalPage = floor(int(driver.find_element(\n",
        "        By.ID, 'RecordCnt').find_element(By.TAG_NAME, \"font\").text)/10+1)\n",
        "\n",
        "    print(\"totalPage\", totalPage)\n",
        "\n",
        "    for currentpage in range(1, totalPage + 1):\n",
        "        for i, row in enumerate(driver.find_elements(By.CLASS_NAME, \"GridViewRowStyle\")):\n",
        "            rowData = []\n",
        "            for column in row.find_elements(By.TAG_NAME, \"td\"):\n",
        "                rowData.append(column.text)\n",
        "            table.append(rowData)\n",
        "\n",
        "        # 換頁確認\n",
        "        if currentpage < totalPage:\n",
        "            try:\n",
        "                WebDriverWait(driver, 10).until(\n",
        "                    EC.element_to_be_clickable((By.ID, 'BtnNext'))).click()\n",
        "                print(\"currentpage\", currentpage)\n",
        "                # 避免伺服器壓力過大\n",
        "                sleep(1)\n",
        "            except Exception as e:\n",
        "                print(f\"換頁失敗：{str(e)}\")\n",
        "\n",
        "# 等待 5 秒再關閉瀏覽器\n",
        "sleep(5)"
      ],
      "metadata": {
        "id": "qA9mOP5RoaVs"
      },
      "execution_count": null,
      "outputs": []
    },
    {
      "cell_type": "code",
      "source": [
        "import csv\n",
        "\n",
        "# 假設前面的程式碼已經執行過，得到了 table 這個二維列表\n",
        "\n",
        "with open('result.csv', 'w', newline='', encoding=\"utf-8-sig\") as csvfile:\n",
        "    writer = csv.writer(csvfile)\n",
        "\n",
        "    # 寫入二維表格\n",
        "    writer.writerows(table)\n",
        "\n",
        "print(\"CSV 檔案已成功寫入。\")"
      ],
      "metadata": {
        "id": "hEZ55RS2ovz-"
      },
      "execution_count": null,
      "outputs": []
    },
    {
      "cell_type": "markdown",
      "source": [
        "Beautiful soup"
      ],
      "metadata": {
        "id": "szhv130lnt3X"
      }
    },
    {
      "cell_type": "code",
      "source": [
        "from selenium import webdriver\n",
        "from selenium.webdriver.common.by import By\n",
        "import chromedriver_autoinstaller\n",
        "from bs4 import BeautifulSoup\n",
        "import csv\n",
        "from time import sleep\n",
        "\n",
        "# 安裝或更新 ChromeDriver\n",
        "chromedriver_autoinstaller.install()\n",
        "\n",
        "# 讓webdriver開啟我們要的網站\n",
        "driver = webdriver.Chrome()\n",
        "driver.get(\"https://ithelp.ithome.com.tw/\")\n",
        "driver.fullscreen_window()\n",
        "\n",
        "# 等待一些時間，讓網頁充分加載\n",
        "sleep(2)\n",
        "\n",
        "# 獲取網頁原始碼\n",
        "page_html = driver.page_source\n",
        "\n",
        "# 關閉瀏覽器\n",
        "driver.quit()\n",
        "\n",
        "# 使用 BeautifulSoup 解析網頁\n",
        "soup = BeautifulSoup(page_html, 'html.parser')\n",
        "\n",
        "# 提取問答區的相關資訊\n",
        "question_columns = soup.select('.qa-list')\n",
        "\n",
        "result = [['喜歡數', '回應數', '瀏覽數', '標題', '時間', '提問人']]\n",
        "for question_column in question_columns:\n",
        "    like_count = question_column.select('.qa-condition__count')[0].text\n",
        "    response_count = question_column.select('.qa-condition__count')[1].text\n",
        "    view_count = question_column.select('.qa-condition__count')[2].text\n",
        "    topic = question_column.select('.qa-list__title>a')[0].text\n",
        "    time = question_column.select('.qa-list__info-time')[0].text\n",
        "    people = question_column.select('.qa-list__info-link')[0].text\n",
        "    people = people.replace('\\n', '').replace(' ', '')\n",
        "    col = [like_count, response_count, view_count, topic, time, people]\n",
        "    result.append(col)\n",
        "\n",
        "# 輸出結果到 CSV 檔案\n",
        "with open('resultbs4.csv', 'w', newline='', encoding=\"utf-8-sig\") as csvfile:\n",
        "    writer = csv.writer(csvfile)\n",
        "\n",
        "    # 寫入二維表格\n",
        "    writer.writerows(result)\n",
        "\n",
        "print(result)"
      ],
      "metadata": {
        "id": "-wDva_VIpoZ1"
      },
      "execution_count": null,
      "outputs": []
    }
  ]
}